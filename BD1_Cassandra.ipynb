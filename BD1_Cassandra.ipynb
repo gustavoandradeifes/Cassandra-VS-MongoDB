{
  "nbformat": 4,
  "nbformat_minor": 0,
  "metadata": {
    "colab": {
      "name": "BD1-Cassandra.ipynb",
      "provenance": [],
      "collapsed_sections": []
    },
    "kernelspec": {
      "name": "python3",
      "display_name": "Python 3"
    }
  },
  "cells": [
    {
      "cell_type": "code",
      "metadata": {
        "id": "9bIFujMaCz1r",
        "outputId": "c2cf7f6f-9614-4af0-fddd-08ca632a233a",
        "colab": {
          "base_uri": "https://localhost:8080/",
          "height": 90
        }
      },
      "source": [
        "!pip install cassandra-driver"
      ],
      "execution_count": 10,
      "outputs": [
        {
          "output_type": "stream",
          "text": [
            "Requirement already satisfied: cassandra-driver in /usr/local/lib/python3.6/dist-packages (3.24.0)\n",
            "Requirement already satisfied: geomet<0.3,>=0.1 in /usr/local/lib/python3.6/dist-packages (from cassandra-driver) (0.2.1.post1)\n",
            "Requirement already satisfied: six>=1.9 in /usr/local/lib/python3.6/dist-packages (from cassandra-driver) (1.15.0)\n",
            "Requirement already satisfied: click in /usr/local/lib/python3.6/dist-packages (from geomet<0.3,>=0.1->cassandra-driver) (7.1.2)\n"
          ],
          "name": "stdout"
        }
      ]
    },
    {
      "cell_type": "code",
      "metadata": {
        "id": "O-hROTnMDFYh",
        "outputId": "cb82af09-fff9-4bc8-bed8-777bb4cfcc11",
        "colab": {
          "base_uri": "https://localhost:8080/",
          "height": 35
        }
      },
      "source": [
        "import cassandra; print (cassandra.__version__)"
      ],
      "execution_count": 11,
      "outputs": [
        {
          "output_type": "stream",
          "text": [
            "3.24.0\n"
          ],
          "name": "stdout"
        }
      ]
    },
    {
      "cell_type": "code",
      "metadata": {
        "id": "4gg86ukuDZLS"
      },
      "source": [
        "from cassandra.cluster import Cluster\n",
        "from cassandra.auth import PlainTextAuthProvider\n",
        "from cassandra.query import SimpleStatement\n",
        "\n",
        "cloud_config= {\n",
        "    'secure_connect_bundle': 'secure-connect-naruhodo.zip'\n",
        "}\n",
        "auth_provider = PlainTextAuthProvider('naruhodo','123456')\n",
        "cluster = Cluster(cloud=cloud_config, auth_provider=auth_provider)\n",
        "session = cluster.connect()"
      ],
      "execution_count": 12,
      "outputs": []
    },
    {
      "cell_type": "code",
      "metadata": {
        "id": "bkbi6UwpWSqr",
        "outputId": "e3dcdcbf-58ac-416a-896b-fa8f8af752a4",
        "colab": {
          "base_uri": "https://localhost:8080/",
          "height": 35
        }
      },
      "source": [
        "session.execute('USE naruhodo;')"
      ],
      "execution_count": 13,
      "outputs": [
        {
          "output_type": "execute_result",
          "data": {
            "text/plain": [
              "<cassandra.cluster.ResultSet at 0x7fc2419b39e8>"
            ]
          },
          "metadata": {
            "tags": []
          },
          "execution_count": 13
        }
      ]
    },
    {
      "cell_type": "code",
      "metadata": {
        "id": "DvlwKjIlnkKC",
        "outputId": "3f5db0a3-f896-416b-a793-ecc3d25a3edc",
        "colab": {
          "base_uri": "https://localhost:8080/",
          "height": 35
        }
      },
      "source": [
        "session.execute('CREATE TABLE IF NOT EXISTS professor (id_prof int PRIMARY KEY, nome_prof text, idioma_prof text);')\n",
        "session.execute('CREATE TABLE IF NOT EXISTS aluno (id_aluno int PRIMARY KEY, nome_aluno text, email_aluno text,  idioma_aluno text);')\n",
        "session.execute('CREATE TABLE IF NOT EXISTS recepcionista (id_recep int PRIMARY KEY, nome_recep text, senha_recep text);')\n",
        "session.execute('CREATE TABLE IF NOT EXISTS sala_de_aula (id_sala int PRIMARY KEY, numero_sala int, andar_sala int, capacidade int);')\n",
        "session.execute('CREATE TABLE IF NOT EXISTS agenda (hora timestamp, data date, id_aluno int, id_prof int, id_sala int, id_recep int, PRIMARY KEY (id_aluno, id_prof, id_sala, id_recep));')"
      ],
      "execution_count": 14,
      "outputs": [
        {
          "output_type": "execute_result",
          "data": {
            "text/plain": [
              "<cassandra.cluster.ResultSet at 0x7fc224e55e80>"
            ]
          },
          "metadata": {
            "tags": []
          },
          "execution_count": 14
        }
      ]
    },
    {
      "cell_type": "code",
      "metadata": {
        "id": "3pC6huxmyC7j",
        "outputId": "418d20d0-f7f0-4722-9f90-81cb347c14d2",
        "colab": {
          "base_uri": "https://localhost:8080/",
          "height": 35
        }
      },
      "source": [
        "session.execute(\"INSERT INTO aluno (id_aluno, nome_aluno, email_aluno,  idioma_aluno) VALUES (%s, %s, %s, %s);\", (1, 'Ana', 'ana@gmail.com', 'ingles'))\n",
        "session.execute(\"INSERT INTO aluno (id_aluno, nome_aluno, email_aluno,  idioma_aluno) VALUES (%s, %s, %s, %s);\", (2, 'Carol', 'carol@gmail.com', 'ingles'))\n",
        "session.execute(\"INSERT INTO aluno (id_aluno, nome_aluno, email_aluno,  idioma_aluno) VALUES (%s, %s, %s, %s);\", (3, 'Bruna', 'bruna@gmail.com', 'espanhol'))\n",
        "session.execute(\"INSERT INTO aluno (id_aluno, nome_aluno, email_aluno,  idioma_aluno) VALUES (%s, %s, %s, %s);\", (4, 'Fernando', 'fernando@gmail.com', 'ingles'))\n",
        "session.execute(\"INSERT INTO aluno (id_aluno, nome_aluno, email_aluno,  idioma_aluno) VALUES (%s, %s, %s, %s);\", (5, 'Mateus', 'mateus@gmail.com', 'ingles'))\n",
        "session.execute(\"INSERT INTO aluno (id_aluno, nome_aluno, email_aluno,  idioma_aluno) VALUES (%s, %s, %s, %s);\", (6, 'Camila', 'camila@gmail.com', 'ingles'))\n",
        "session.execute(\"INSERT INTO aluno (id_aluno, nome_aluno, email_aluno,  idioma_aluno) VALUES (%s, %s, %s, %s);\", (7, 'Lucas', 'lucas@gmail.com', 'ingles'))\n",
        "session.execute(\"INSERT INTO aluno (id_aluno, nome_aluno, email_aluno,  idioma_aluno) VALUES (%s, %s, %s, %s);\", (8, 'Arnaldo', 'arnaldo@gmail.com', 'frances'))\n",
        "session.execute(\"INSERT INTO aluno (id_aluno, nome_aluno, email_aluno,  idioma_aluno) VALUES (%s, %s, %s, %s);\", (9, 'Charles', 'charles@gmail.com', 'frances'))\n",
        "session.execute(\"INSERT INTO aluno (id_aluno, nome_aluno, email_aluno,  idioma_aluno) VALUES (%s, %s, %s, %s);\", (10, 'Alex', 'alex@gmail.com', 'espanhol'))"
      ],
      "execution_count": 15,
      "outputs": [
        {
          "output_type": "execute_result",
          "data": {
            "text/plain": [
              "<cassandra.cluster.ResultSet at 0x7fc224e5b7f0>"
            ]
          },
          "metadata": {
            "tags": []
          },
          "execution_count": 15
        }
      ]
    },
    {
      "cell_type": "code",
      "metadata": {
        "id": "zc1VgEyEyD5-",
        "outputId": "f06ab1a2-8005-4468-de9a-0f987e028de5",
        "colab": {
          "base_uri": "https://localhost:8080/",
          "height": 35
        }
      },
      "source": [
        "session.execute(\"INSERT INTO recepcionista (id_recep, nome_recep,  senha_recep) VALUES (%s, %s, %s);\", (1010, 'Glória', 'senha1'))\n",
        "session.execute(\"INSERT INTO recepcionista (id_recep, nome_recep,  senha_recep) VALUES (%s, %s, %s);\", (2020, 'Débora', 'senha2'))\n",
        "session.execute(\"INSERT INTO recepcionista (id_recep, nome_recep,  senha_recep) VALUES (%s, %s, %s);\", (3030, 'Larissa', 'senha3'))\n",
        "session.execute(\"INSERT INTO recepcionista (id_recep, nome_recep,  senha_recep) VALUES (%s, %s, %s);\", (4040, 'Geovana', 'senha4'))"
      ],
      "execution_count": 16,
      "outputs": [
        {
          "output_type": "execute_result",
          "data": {
            "text/plain": [
              "<cassandra.cluster.ResultSet at 0x7fc224e59470>"
            ]
          },
          "metadata": {
            "tags": []
          },
          "execution_count": 16
        }
      ]
    },
    {
      "cell_type": "code",
      "metadata": {
        "id": "T5PNUcjQyEEA",
        "outputId": "701463c4-cd08-426a-fece-e01dcdcdca3c",
        "colab": {
          "base_uri": "https://localhost:8080/",
          "height": 35
        }
      },
      "source": [
        "session.execute(\"INSERT INTO professor (id_prof, nome_prof,  idioma_prof) VALUES (%s, %s, %s);\", (10101, 'Jorge', 'inglês'))\n",
        "session.execute(\"INSERT INTO professor (id_prof, nome_prof,  idioma_prof) VALUES (%s, %s, %s);\", (20202, 'Luiz', 'inglês'))\n",
        "session.execute(\"INSERT INTO professor (id_prof, nome_prof,  idioma_prof) VALUES (%s, %s, %s);\", (30303, 'Vitória', 'espanhol'))\n",
        "session.execute(\"INSERT INTO professor (id_prof, nome_prof,  idioma_prof) VALUES (%s, %s, %s);\", (40404, 'Ingrid', 'espanhol'))\n",
        "session.execute(\"INSERT INTO professor (id_prof, nome_prof,  idioma_prof) VALUES (%s, %s, %s);\", (50505, 'Brenda', 'francês'))\n",
        "session.execute(\"INSERT INTO professor (id_prof, nome_prof,  idioma_prof) VALUES (%s, %s, %s);\", (60606, 'Luna', 'francês'))"
      ],
      "execution_count": 17,
      "outputs": [
        {
          "output_type": "execute_result",
          "data": {
            "text/plain": [
              "<cassandra.cluster.ResultSet at 0x7fc224e5b828>"
            ]
          },
          "metadata": {
            "tags": []
          },
          "execution_count": 17
        }
      ]
    },
    {
      "cell_type": "code",
      "metadata": {
        "id": "2aTlZS6jyEMt",
        "outputId": "120fe6c9-30af-4b96-baac-a9b59161aa55",
        "colab": {
          "base_uri": "https://localhost:8080/",
          "height": 35
        }
      },
      "source": [
        "session.execute(\"INSERT INTO sala_de_aula (id_sala, numero_sala, andar_sala, capacidade) VALUES (%s , %s, %s ,%s);\", (101, 1, 1, 5))\n",
        "session.execute(\"INSERT INTO sala_de_aula (id_sala, numero_sala, andar_sala, capacidade) VALUES (%s , %s, %s ,%s);\", (102, 2, 1, 10))\n",
        "session.execute(\"INSERT INTO sala_de_aula (id_sala, numero_sala, andar_sala, capacidade) VALUES (%s , %s, %s ,%s);\", (103, 3, 1, 5))\n",
        "session.execute(\"INSERT INTO sala_de_aula (id_sala, numero_sala, andar_sala, capacidade) VALUES (%s , %s, %s ,%s);\", (201, 1, 2, 5))\n",
        "session.execute(\"INSERT INTO sala_de_aula (id_sala, numero_sala, andar_sala, capacidade) VALUES (%s , %s, %s ,%s);\", (202, 5, 2, 10))\n",
        "session.execute(\"INSERT INTO sala_de_aula (id_sala, numero_sala, andar_sala, capacidade) VALUES (%s , %s, %s ,%s);\", (203, 3, 2, 15))"
      ],
      "execution_count": 18,
      "outputs": [
        {
          "output_type": "execute_result",
          "data": {
            "text/plain": [
              "<cassandra.cluster.ResultSet at 0x7fc224e55a20>"
            ]
          },
          "metadata": {
            "tags": []
          },
          "execution_count": 18
        }
      ]
    },
    {
      "cell_type": "code",
      "metadata": {
        "id": "GXpm_PFA2wlk",
        "outputId": "f4c3d531-2faf-4fe1-b247-c3b99167e03e",
        "colab": {
          "base_uri": "https://localhost:8080/",
          "height": 35
        }
      },
      "source": [
        "session.execute(\"INSERT INTO agenda (hora, data, id_aluno, id_prof, id_sala, id_recep) VALUES (%s, %s, %s, %s, %s, %s);\", ('2020-07-30 15:00:00', '2020-07-30', 1, 10101, 101, 1010))\n",
        "session.execute(\"INSERT INTO agenda (hora, data, id_aluno, id_prof, id_sala, id_recep) VALUES (%s, %s, %s, %s, %s, %s);\", ('2020-07-30 15:00:00', '2020-07-30', 2, 20202, 102, 1010))\n",
        "session.execute(\"INSERT INTO agenda (hora, data, id_aluno, id_prof, id_sala, id_recep) VALUES (%s, %s, %s, %s, %s, %s);\", ('2020-07-30 15:00:00', '2020-07-30', 3, 30303, 103, 2020))\n",
        "session.execute(\"INSERT INTO agenda (hora, data, id_aluno, id_prof, id_sala, id_recep) VALUES (%s, %s, %s, %s, %s, %s);\", ('2020-08-04 15:00:00', '2020-08-04', 6, 40404, 101, 4040))\n",
        "session.execute(\"INSERT INTO agenda (hora, data, id_aluno, id_prof, id_sala, id_recep) VALUES (%s, %s, %s, %s, %s, %s);\", ('2020-08-04 15:00:00', '2020-08-04', 7, 50505, 102, 3030))\n",
        "session.execute(\"INSERT INTO agenda (hora, data, id_aluno, id_prof, id_sala, id_recep) VALUES (%s, %s, %s, %s, %s, %s);\", ('2020-08-04 15:00:00', '2020-08-04', 8, 60606, 103, 2020))"
      ],
      "execution_count": 19,
      "outputs": [
        {
          "output_type": "execute_result",
          "data": {
            "text/plain": [
              "<cassandra.cluster.ResultSet at 0x7fc224e5fe48>"
            ]
          },
          "metadata": {
            "tags": []
          },
          "execution_count": 19
        }
      ]
    },
    {
      "cell_type": "code",
      "metadata": {
        "id": "Ywdr98Onn6F1",
        "outputId": "8d57a661-516a-4b46-d035-3a7183fc2768",
        "colab": {
          "base_uri": "https://localhost:8080/",
          "height": 35
        }
      },
      "source": [
        "session.execute(\"INSERT INTO professor (id_prof, nome_prof, idioma_prof) VALUES (%s, %s, %s);\", (10101, 'Jorge', 'ingles'))\n",
        "session.execute(\"INSERT INTO professor (id_prof, nome_prof, idioma_prof) VALUES (%s, %s, %s);\", (12121, 'Luiz', 'ingles'))\n",
        "session.execute(\"INSERT INTO professor (id_prof, nome_prof, idioma_prof) VALUES (%s, %s, %s);\", (13131, 'Vitoria', 'ingles'))\n",
        "session.execute(\"INSERT INTO professor (id_prof, nome_prof, idioma_prof) VALUES (%s, %s, %s);\", (14141, 'Ingrid', 'ingles'))\n",
        "session.execute(\"INSERT INTO professor (id_prof, nome_prof, idioma_prof) VALUES (%s, %s, %s);\", (15151, 'Maristela', 'ingles'))\n",
        "session.execute(\"INSERT INTO professor (id_prof, nome_prof, idioma_prof) VALUES (%s, %s, %s);\", (16161, 'Carla', 'espanhol'))\n",
        "session.execute(\"INSERT INTO professor (id_prof, nome_prof, idioma_prof) VALUES (%s, %s, %s);\", (17171, 'Brenda', 'espanhol'))\n",
        "session.execute(\"INSERT INTO professor (id_prof, nome_prof, idioma_prof) VALUES (%s, %s, %s);\", (18181, 'Andre', 'espanhol'))\n",
        "session.execute(\"INSERT INTO professor (id_prof, nome_prof, idioma_prof) VALUES (%s, %s, %s);\", (19191, 'Luna', 'frances'))\n",
        "session.execute(\"INSERT INTO professor (id_prof, nome_prof, idioma_prof) VALUES (%s, %s, %s);\", (20202, 'Stella', 'frances'))"
      ],
      "execution_count": 20,
      "outputs": [
        {
          "output_type": "execute_result",
          "data": {
            "text/plain": [
              "<cassandra.cluster.ResultSet at 0x7fc224e54b38>"
            ]
          },
          "metadata": {
            "tags": []
          },
          "execution_count": 20
        }
      ]
    },
    {
      "cell_type": "code",
      "metadata": {
        "id": "PM6thrZhpyQ3",
        "outputId": "4aa9910f-6ae3-4c9c-b4ad-5d58c0004567",
        "colab": {
          "base_uri": "https://localhost:8080/",
          "height": 272
        }
      },
      "source": [
        "statement = SimpleStatement(\"SELECT * FROM professor\", fetch_size=10)\n",
        "for user_row in session.execute(statement):\n",
        "    print(user_row)"
      ],
      "execution_count": 21,
      "outputs": [
        {
          "output_type": "stream",
          "text": [
            "Row(id_prof=13131, idioma_prof='ingles', nome_prof='Vitoria')\n",
            "Row(id_prof=18181, idioma_prof='espanhol', nome_prof='Andre')\n",
            "Row(id_prof=10101, idioma_prof='ingles', nome_prof='Jorge')\n",
            "Row(id_prof=60606, idioma_prof='francês', nome_prof='Luna')\n",
            "Row(id_prof=20202, idioma_prof='frances', nome_prof='Stella')\n",
            "Row(id_prof=14141, idioma_prof='ingles', nome_prof='Ingrid')\n",
            "Row(id_prof=40404, idioma_prof='espanhol', nome_prof='Ingrid')\n",
            "Row(id_prof=17171, idioma_prof='espanhol', nome_prof='Brenda')\n",
            "Row(id_prof=30303, idioma_prof='espanhol', nome_prof='Vitória')\n",
            "Row(id_prof=19191, idioma_prof='frances', nome_prof='Luna')\n",
            "Row(id_prof=15151, idioma_prof='ingles', nome_prof='Maristela')\n",
            "Row(id_prof=50505, idioma_prof='francês', nome_prof='Brenda')\n",
            "Row(id_prof=16161, idioma_prof='espanhol', nome_prof='Carla')\n",
            "Row(id_prof=12121, idioma_prof='ingles', nome_prof='Luiz')\n"
          ],
          "name": "stdout"
        }
      ]
    },
    {
      "cell_type": "code",
      "metadata": {
        "id": "1JrYsw435o3c",
        "outputId": "ff72a6cb-3e4c-4e97-bfee-4d629fe0519a",
        "colab": {
          "base_uri": "https://localhost:8080/",
          "height": 199
        }
      },
      "source": [
        "statement = SimpleStatement(\"SELECT * FROM aluno\", fetch_size=10)\n",
        "for user_row in session.execute(statement):\n",
        "    print(user_row)"
      ],
      "execution_count": 22,
      "outputs": [
        {
          "output_type": "stream",
          "text": [
            "Row(id_aluno=5, email_aluno='mateus@gmail.com', idioma_aluno='ingles', nome_aluno='Mateus')\n",
            "Row(id_aluno=10, email_aluno='alex@gmail.com', idioma_aluno='espanhol', nome_aluno='Alex')\n",
            "Row(id_aluno=1, email_aluno='ana@gmail.com', idioma_aluno='ingles', nome_aluno='Ana')\n",
            "Row(id_aluno=8, email_aluno='arnaldo@gmail.com', idioma_aluno='frances', nome_aluno='Arnaldo')\n",
            "Row(id_aluno=2, email_aluno='carol@gmail.com', idioma_aluno='ingles', nome_aluno='Carol')\n",
            "Row(id_aluno=4, email_aluno='fernando@gmail.com', idioma_aluno='ingles', nome_aluno='Fernando')\n",
            "Row(id_aluno=7, email_aluno='lucas@gmail.com', idioma_aluno='ingles', nome_aluno='Lucas')\n",
            "Row(id_aluno=6, email_aluno='camila@gmail.com', idioma_aluno='ingles', nome_aluno='Camila')\n",
            "Row(id_aluno=9, email_aluno='charles@gmail.com', idioma_aluno='frances', nome_aluno='Charles')\n",
            "Row(id_aluno=3, email_aluno='bruna@gmail.com', idioma_aluno='espanhol', nome_aluno='Bruna')\n"
          ],
          "name": "stdout"
        }
      ]
    },
    {
      "cell_type": "code",
      "metadata": {
        "id": "JzX2d8cK5qVx",
        "outputId": "1aec1feb-0632-4d8b-b9ee-3e30ecd4b77b",
        "colab": {
          "base_uri": "https://localhost:8080/",
          "height": 90
        }
      },
      "source": [
        "statement = SimpleStatement(\"SELECT * FROM recepcionista\", fetch_size=10)\n",
        "for user_row in session.execute(statement):\n",
        "    print(user_row)"
      ],
      "execution_count": 23,
      "outputs": [
        {
          "output_type": "stream",
          "text": [
            "Row(id_recep=4040, nome_recep='Geovana', senha_recep='senha4')\n",
            "Row(id_recep=3030, nome_recep='Larissa', senha_recep='senha3')\n",
            "Row(id_recep=2020, nome_recep='Débora', senha_recep='senha2')\n",
            "Row(id_recep=1010, nome_recep='Glória', senha_recep='senha1')\n"
          ],
          "name": "stdout"
        }
      ]
    },
    {
      "cell_type": "code",
      "metadata": {
        "id": "Kzck49if5sPY",
        "outputId": "51db01d1-e21f-4e43-e1d2-05b0631eb4f4",
        "colab": {
          "base_uri": "https://localhost:8080/",
          "height": 126
        }
      },
      "source": [
        "statement = SimpleStatement(\"SELECT * FROM agenda\", fetch_size=10)\n",
        "for user_row in session.execute(statement):\n",
        "    print(user_row)"
      ],
      "execution_count": 24,
      "outputs": [
        {
          "output_type": "stream",
          "text": [
            "Row(id_aluno=1, id_prof=10101, id_sala=101, id_recep=1010, data=Date(18473), hora=datetime.datetime(2020, 7, 30, 15, 0))\n",
            "Row(id_aluno=8, id_prof=60606, id_sala=103, id_recep=2020, data=Date(18478), hora=datetime.datetime(2020, 8, 4, 15, 0))\n",
            "Row(id_aluno=2, id_prof=20202, id_sala=102, id_recep=1010, data=Date(18473), hora=datetime.datetime(2020, 7, 30, 15, 0))\n",
            "Row(id_aluno=7, id_prof=50505, id_sala=102, id_recep=3030, data=Date(18478), hora=datetime.datetime(2020, 8, 4, 15, 0))\n",
            "Row(id_aluno=6, id_prof=40404, id_sala=101, id_recep=4040, data=Date(18478), hora=datetime.datetime(2020, 8, 4, 15, 0))\n",
            "Row(id_aluno=3, id_prof=30303, id_sala=103, id_recep=2020, data=Date(18473), hora=datetime.datetime(2020, 7, 30, 15, 0))\n"
          ],
          "name": "stdout"
        }
      ]
    },
    {
      "cell_type": "code",
      "metadata": {
        "id": "focDDkr65tZ8",
        "outputId": "4b64bb5e-c0f2-467e-cc5b-9689f2e902c5",
        "colab": {
          "base_uri": "https://localhost:8080/",
          "height": 126
        }
      },
      "source": [
        "statement = SimpleStatement(\"SELECT * FROM sala_de_aula\", fetch_size=10)\n",
        "for user_row in session.execute(statement):\n",
        "    print(user_row)"
      ],
      "execution_count": 25,
      "outputs": [
        {
          "output_type": "stream",
          "text": [
            "Row(id_sala=201, andar_sala=2, capacidade=5, numero_sala=1)\n",
            "Row(id_sala=203, andar_sala=2, capacidade=15, numero_sala=3)\n",
            "Row(id_sala=102, andar_sala=1, capacidade=10, numero_sala=2)\n",
            "Row(id_sala=101, andar_sala=1, capacidade=5, numero_sala=1)\n",
            "Row(id_sala=202, andar_sala=2, capacidade=10, numero_sala=5)\n",
            "Row(id_sala=103, andar_sala=1, capacidade=5, numero_sala=3)\n"
          ],
          "name": "stdout"
        }
      ]
    },
    {
      "cell_type": "code",
      "metadata": {
        "id": "DEjI3u2A6IPE",
        "outputId": "bca3b18b-ee5d-4816-848f-ee9c76212191",
        "colab": {
          "base_uri": "https://localhost:8080/",
          "height": 35
        }
      },
      "source": [
        "session.execute(\"DELETE FROM aluno WHERE id_aluno = 5;\")\n",
        "session.execute(\"DELETE FROM professor WHERE id_prof = 15151;\")"
      ],
      "execution_count": 26,
      "outputs": [
        {
          "output_type": "execute_result",
          "data": {
            "text/plain": [
              "<cassandra.cluster.ResultSet at 0x7fc224e5b588>"
            ]
          },
          "metadata": {
            "tags": []
          },
          "execution_count": 26
        }
      ]
    },
    {
      "cell_type": "code",
      "metadata": {
        "id": "WDJPySTe9HNM",
        "outputId": "e9f5f6db-21a4-440f-9a42-430e8d95f9f5",
        "colab": {
          "base_uri": "https://localhost:8080/",
          "height": 35
        }
      },
      "source": [
        "session.execute(\"UPDATE professor SET nome_prof = 'Marianne' WHERE id_prof = 20202;\")\n",
        "session.execute(\"UPDATE aluno SET idioma_aluno  = 'frances' WHERE id_aluno = 2;\")\n"
      ],
      "execution_count": 27,
      "outputs": [
        {
          "output_type": "execute_result",
          "data": {
            "text/plain": [
              "<cassandra.cluster.ResultSet at 0x7fc224e5b128>"
            ]
          },
          "metadata": {
            "tags": []
          },
          "execution_count": 27
        }
      ]
    }
  ]
}